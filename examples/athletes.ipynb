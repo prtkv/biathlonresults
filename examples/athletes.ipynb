{
 "cells": [
  {
   "cell_type": "code",
   "execution_count": 1,
   "id": "ed2f7e84-c67b-46e9-8e0a-d1d9cd455e39",
   "metadata": {},
   "outputs": [],
   "source": [
    "import biathlonresults"
   ]
  },
  {
   "cell_type": "code",
   "execution_count": 2,
   "id": "c3fc2e4b-133e-45b9-bc1a-7e873913eab3",
   "metadata": {},
   "outputs": [],
   "source": [
    "athletes = biathlonresults.athletes(family_name=\"bo\", given_name=\"jo\")"
   ]
  },
  {
   "cell_type": "code",
   "execution_count": 3,
   "id": "2539be9a-df84-4446-bae3-d8f0fd9e53d1",
   "metadata": {},
   "outputs": [
    {
     "name": "stdout",
     "output_type": "stream",
     "text": [
      "BTNOR11605199301 BOE J.T.\n",
      "BTNOR11806199901 BOTN\n"
     ]
    }
   ],
   "source": [
    "for athlete in athletes[\"Athletes\"]:\n",
    "    print(athlete[\"IBUId\"], athlete[\"ShortName\"])"
   ]
  },
  {
   "cell_type": "code",
   "execution_count": 4,
   "id": "3855853e-99b2-4b69-b3b1-22d707517362",
   "metadata": {},
   "outputs": [
    {
     "name": "stdout",
     "output_type": "stream",
     "text": [
      "Johannes Thingnes BOE NOR 1993\n"
     ]
    }
   ],
   "source": [
    "athlete_info = biathlonresults.cisbios(ibu_id='BTNOR11605199301')\n",
    "print(athlete_info[\"FullName\"], athlete_info[\"NAT\"], athlete_info[\"BirthYear\"])"
   ]
  },
  {
   "cell_type": "code",
   "execution_count": 5,
   "id": "f57c5a8c-b190-4dcc-b1b6-a08f242a71b9",
   "metadata": {},
   "outputs": [],
   "source": [
    "athlete_results = biathlonresults.all_results(ibu_id=\"BTNOR11605199301\")"
   ]
  },
  {
   "cell_type": "code",
   "execution_count": 6,
   "id": "a3fcb4b3-764e-4377-9c16-b933ffa73864",
   "metadata": {},
   "outputs": [
    {
     "name": "stdout",
     "output_type": "stream",
     "text": [
      "24/25 Annecy MS 3. 0+1+1+1\n",
      "24/25 Annecy PU 1. 0+0+0+1\n",
      "24/25 Annecy SP 2. 1+0\n",
      "24/25 Hochfilzen RL 2. None\n",
      "24/25 Hochfilzen PU 1. 0+0+1+1\n",
      "24/25 Hochfilzen SP 1. 0+1\n",
      "24/25 Kontiolahti MS 9. 1+0+2+1\n",
      "24/25 Kontiolahti SP 5. 2+0\n",
      "24/25 Kontiolahti SI 2. 0+1+0+0\n",
      "24/25 Kontiolahti RL 2. None\n"
     ]
    }
   ],
   "source": [
    "for result in athlete_results[\"Results\"][:10]:\n",
    "    print(result[\"Season\"], result[\"Place\"], result[\"Comp\"], result[\"Rank\"], result[\"Shootings\"])"
   ]
  }
 ],
 "metadata": {
  "kernelspec": {
   "display_name": "Python 3 (ipykernel)",
   "language": "python",
   "name": "python3"
  },
  "language_info": {
   "codemirror_mode": {
    "name": "ipython",
    "version": 3
   },
   "file_extension": ".py",
   "mimetype": "text/x-python",
   "name": "python",
   "nbconvert_exporter": "python",
   "pygments_lexer": "ipython3",
   "version": "3.9.19"
  }
 },
 "nbformat": 4,
 "nbformat_minor": 5
}
