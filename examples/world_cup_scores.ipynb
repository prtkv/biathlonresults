{
 "cells": [
  {
   "cell_type": "code",
   "execution_count": 1,
   "id": "cae5cee1-76c3-494a-999e-4580808e4aec",
   "metadata": {},
   "outputs": [],
   "source": [
    "import biathlonresults"
   ]
  },
  {
   "cell_type": "code",
   "execution_count": 2,
   "id": "f4430725-3d1d-4213-bd41-e5fe7f9278d5",
   "metadata": {},
   "outputs": [],
   "source": [
    "cups = biathlonresults.cups(\"2425\")"
   ]
  },
  {
   "cell_type": "code",
   "execution_count": 3,
   "id": "5a728ebc-cb9a-4a19-930a-c06037a798ee",
   "metadata": {},
   "outputs": [
    {
     "name": "stdout",
     "output_type": "stream",
     "text": [
      "BT2425SWRLCP__SWTS Women's World Cup Total Score\n",
      "BT2425SWRLCP__SWSP Women's World Cup Sprint Score\n",
      "BT2425SWRLCP__SWPU Women's World Cup Pursuit Score\n",
      "BT2425SWRLCP__SWIN Women's World Cup Individual Score\n",
      "BT2425SWRLCP__SWMS Women's World Cup Mass Start Score\n",
      "BT2425SWRLCP__SWRL Women's World Cup Relay Score\n",
      "BT2425SWRLCP__SWNC Women's Nations Cup Score\n",
      "BT2425SWRLCP__SMTS Men's World Cup Total Score\n",
      "BT2425SWRLCP__SMSP Men's World Cup Sprint Score\n",
      "BT2425SWRLCP__SMPU Men's World Cup Pursuit Score\n",
      "BT2425SWRLCP__SMIN Men's World Cup Individual Score\n",
      "BT2425SWRLCP__SMMS Men's World Cup Mass Start Score\n",
      "BT2425SWRLCP__SMRL Men's World Cup Relay Score\n",
      "BT2425SWRLCP__SMNC Men's Nations Cup Score\n",
      "BT2425SWRLCP__MXRL World Cup Mixed Relay Score\n"
     ]
    }
   ],
   "source": [
    "for cup in cups:\n",
    "    if cup[\"Level\"] == biathlonresults.consts.LevelType.BMW_IBU_WC:\n",
    "        print(cup[\"CupId\"], cup[\"Description\"])"
   ]
  },
  {
   "cell_type": "code",
   "execution_count": 4,
   "id": "a3d0c36a-4b6e-4439-8488-9aa1efccd195",
   "metadata": {},
   "outputs": [],
   "source": [
    "total_score_women = biathlonresults.cup_results(\"BT2425SWRLCP__SWTS\")"
   ]
  },
  {
   "cell_type": "code",
   "execution_count": 5,
   "id": "d6842503-5085-49c1-82f0-47226dfb69b1",
   "metadata": {},
   "outputs": [
    {
     "name": "stdout",
     "output_type": "stream",
     "text": [
      "1 BTGER21103199401 PREUSS Franziska GER 565\n",
      "2 BTSWE22602199901 OEBERG Elvira SWE 371\n",
      "3 BTFRA22810199801 JEANMONNOT Lou FRA 352\n",
      "4 BTFRA20910199601 SIMON Julia FRA 315\n",
      "5 BTGER20710199701 VOIGT Vanessa GER 307\n",
      "6 BTFIN20812199401 MINKKINEN Suvi FIN 285\n",
      "7 BTFRA20407199601 BRAISAZ-BOUCHET Justine FRA 268\n",
      "8 BTFRA21304200201 RICHARD Jeanne FRA 260\n",
      "9 BTSWE22210199901 HALVARSSON Ella SWE 250\n",
      "10 BTGER22503200401 GROTIAN Selina GER 235\n"
     ]
    }
   ],
   "source": [
    "for row in total_score_women['Rows'][:10]:\n",
    "    print(row[\"Rank\"], row[\"IBUId\"], row[\"Name\"], row[\"Nat\"], row[\"Score\"])"
   ]
  }
 ],
 "metadata": {
  "kernelspec": {
   "display_name": "Python 3 (ipykernel)",
   "language": "python",
   "name": "python3"
  },
  "language_info": {
   "codemirror_mode": {
    "name": "ipython",
    "version": 3
   },
   "file_extension": ".py",
   "mimetype": "text/x-python",
   "name": "python",
   "nbconvert_exporter": "python",
   "pygments_lexer": "ipython3",
   "version": "3.9.19"
  }
 },
 "nbformat": 4,
 "nbformat_minor": 5
}
