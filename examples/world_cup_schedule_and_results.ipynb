{
 "cells": [
  {
   "cell_type": "code",
   "execution_count": 1,
   "id": "644e6c4c-3e64-4d72-bc68-9f91f4f312c0",
   "metadata": {},
   "outputs": [],
   "source": [
    "import biathlonresults"
   ]
  },
  {
   "cell_type": "code",
   "execution_count": 2,
   "id": "a0ddd39e-fb5c-4b34-b060-26105b94a063",
   "metadata": {},
   "outputs": [],
   "source": [
    "available_seasons = biathlonresults.seasons()"
   ]
  },
  {
   "cell_type": "code",
   "execution_count": 3,
   "id": "a5f550d4-072e-470e-910e-3112af795234",
   "metadata": {},
   "outputs": [
    {
     "name": "stdout",
     "output_type": "stream",
     "text": [
      "{'SeasonId': '2526', 'Description': '2025/2026', 'SortOrder': 148, 'IsCurrent': False, 'IsCurrentResults': False, 'IsCurrentScheduled': False}\n",
      "{'SeasonId': '2425', 'Description': '2024/2025', 'SortOrder': 147, 'IsCurrent': True, 'IsCurrentResults': True, 'IsCurrentScheduled': True}\n",
      "{'SeasonId': '2324', 'Description': '2023/2024', 'SortOrder': 145, 'IsCurrent': False, 'IsCurrentResults': False, 'IsCurrentScheduled': False}\n"
     ]
    }
   ],
   "source": [
    "for season in available_seasons[:3]:\n",
    "    print(season)"
   ]
  },
  {
   "cell_type": "code",
   "execution_count": 4,
   "id": "79e9291f-a470-48b1-a4ed-68412f503eed",
   "metadata": {},
   "outputs": [
    {
     "name": "stdout",
     "output_type": "stream",
     "text": [
      "Kontiolahti 2024-11-27 - 2024-12-08\n",
      "    BT2425SWRLCP01MXSR Single Mixed Relay (W+M) 2024-11-30T12:15:00Z\n",
      "    BT2425SWRLCP01MXRL Mixed Relay (W+M) 2024-11-30T14:45:00Z\n",
      "    BT2425SWRLCP01SMRL Men 4x7.5km Relay 2024-12-01T12:45:00Z\n",
      "    BT2425SWRLCP01SWRL Women 4x6km Relay 2024-12-01T16:25:00Z\n",
      "    BT2425SWRLCP01SMSI Men 15km Short Individual 2024-12-03T15:20:00Z\n",
      "    BT2425SWRLCP01SWSI Women 12.5km Short Individual 2024-12-04T15:20:00Z\n",
      "    BT2425SWRLCP01SMSP Men 10km Sprint 2024-12-06T15:20:00Z\n",
      "    BT2425SWRLCP01SWSP Women 7.5km Sprint 2024-12-07T16:10:00Z\n",
      "    BT2425SWRLCP01SMMS Men 15km Mass Start 2024-12-08T13:30:00Z\n",
      "    BT2425SWRLCP01SWMS Women 12.5km Mass Start 2024-12-08T16:10:00Z\n",
      "Hochfilzen 2024-12-09 - 2024-12-15\n",
      "    BT2425SWRLCP02SWSP Women 7.5km Sprint 2024-12-13T10:30:00Z\n",
      "    BT2425SWRLCP02SMSP Men 10km Sprint 2024-12-13T13:20:00Z\n",
      "    BT2425SWRLCP02SWPU Women 10km Pursuit 2024-12-14T11:15:00Z\n",
      "    BT2425SWRLCP02SMPU Men 12.5km Pursuit 2024-12-14T13:45:00Z\n",
      "    BT2425SWRLCP02SWRL Women 4x6km Relay 2024-12-15T10:30:00Z\n",
      "    BT2425SWRLCP02SMRL Men 4x7.5km Relay 2024-12-15T13:15:00Z\n",
      "Annecy-Le Grand Bornand 2024-12-16 - 2024-12-22\n",
      "    BT2425SWRLCP03SMSP Men 10km Sprint 2024-12-19T13:20:00Z\n",
      "    BT2425SWRLCP03SWSP Women 7.5km Sprint 2024-12-20T13:20:00Z\n",
      "    BT2425SWRLCP03SMPU Men 12.5km Pursuit 2024-12-21T11:30:00Z\n",
      "    BT2425SWRLCP03SWPU Women 10km Pursuit 2024-12-21T13:45:00Z\n",
      "    BT2425SWRLCP03SMMS Men 15km Mass Start 2024-12-22T11:30:00Z\n",
      "    BT2425SWRLCP03SWMS Women 12.5km Mass Start 2024-12-22T13:45:00Z\n",
      "Oberhof 2025-01-06 - 2025-01-12\n",
      "    BT2425SWRLCP04SWSP Women 7.5km Sprint 2025-01-09T13:20:00Z\n",
      "    BT2425SWRLCP04SMSP Men 10km Sprint 2025-01-10T13:20:00Z\n",
      "    BT2425SWRLCP04SWPU Women 10km Pursuit 2025-01-11T11:30:00Z\n",
      "    BT2425SWRLCP04SMPU Men 12.5km Pursuit 2025-01-11T13:45:00Z\n",
      "    BT2425SWRLCP04MXSR Single Mixed Relay (M+W) 2025-01-12T11:20:00Z\n",
      "    BT2425SWRLCP04MXRL Mixed Relay (M+W) 2025-01-12T13:30:00Z\n",
      "Ruhpolding 2025-01-13 - 2025-01-19\n",
      "    BT2425SWRLCP05SMIN Men 20km Individual 2025-01-15T13:10:00Z\n",
      "    BT2425SWRLCP05SWIN Women 15km Individual 2025-01-16T13:10:00Z\n",
      "    BT2425SWRLCP05SMRL Men 4x7.5km Relay 2025-01-17T13:20:00Z\n",
      "    BT2425SWRLCP05SWRL Women 4x6km Relay 2025-01-18T13:20:00Z\n",
      "    BT2425SWRLCP05SMMS Men 15km Mass Start 2025-01-19T11:30:00Z\n",
      "    BT2425SWRLCP05SWMS Women 12.5km Mass Start 2025-01-19T14:00:00Z\n",
      "Antholz-Anterselva 2025-01-20 - 2025-01-26\n",
      "    BT2425SWRLCP06SWSP Women 7.5km Sprint 2025-01-23T13:30:00Z\n",
      "    BT2425SWRLCP06SMSP Men 10km Sprint 2025-01-24T13:30:00Z\n",
      "    BT2425SWRLCP06SWPU Women 10km Pursuit 2025-01-25T12:00:00Z\n",
      "    BT2425SWRLCP06SMRL Men 4x7.5km Relay 2025-01-25T13:55:00Z\n",
      "    BT2425SWRLCP06SWRL Women 4x6km Relay 2025-01-26T11:05:00Z\n",
      "    BT2425SWRLCP06SMPU Men 12.5km Pursuit 2025-01-26T13:45:00Z\n",
      "Lenzerheide 2025-02-09 - 2025-02-23\n",
      "    BT2425SWRLCH__MXRL Mixed Relay (W+M) 2025-02-12T13:30:00Z\n",
      "    BT2425SWRLCH__SWSP Women 7.5km Sprint 2025-02-14T14:05:00Z\n",
      "    BT2425SWRLCH__SMSP Men 10km Sprint 2025-02-15T14:05:00Z\n",
      "    BT2425SWRLCH__SWPU Women 10km Pursuit 2025-02-16T11:05:00Z\n",
      "    BT2425SWRLCH__SMPU Men 12.5km Pursuit 2025-02-16T14:05:00Z\n",
      "    BT2425SWRLCH__SWIN Women 15km Individual 2025-02-18T14:05:00Z\n",
      "    BT2425SWRLCH__SMIN Men 20km Individual 2025-02-19T14:05:00Z\n",
      "    BT2425SWRLCH__MXSR Single Mixed Relay (W+M) 2025-02-20T15:05:00Z\n",
      "    BT2425SWRLCH__SWRL Women 4x6km Relay 2025-02-22T11:05:00Z\n",
      "    BT2425SWRLCH__SMRL Men 4x7.5km Relay 2025-02-22T14:05:00Z\n",
      "    BT2425SWRLCH__SWMS Women 12.5km Mass Start 2025-02-23T12:45:00Z\n",
      "    BT2425SWRLCH__SMMS Men 15km Mass Start 2025-02-23T15:05:00Z\n",
      "Nove Mesto na Morave 2025-03-03 - 2025-03-09\n",
      "    BT2425SWRLCP07SMSP Men 10km Sprint 2025-03-06T17:20:00Z\n",
      "    BT2425SWRLCP07SWSP Women 7.5km Sprint 2025-03-07T17:20:00Z\n",
      "    BT2425SWRLCP07SMPU Men 12.5km Pursuit 2025-03-08T13:55:00Z\n",
      "    BT2425SWRLCP07SWPU Women 10km Pursuit 2025-03-08T16:40:00Z\n",
      "    BT2425SWRLCP07SMRL Men 4x7.5km Relay 2025-03-09T12:50:00Z\n",
      "    BT2425SWRLCP07SWRL Women 4x6km Relay 2025-03-09T15:45:00Z\n",
      "Pokljuka 2025-03-10 - 2025-03-16\n",
      "    BT2425SWRLCP08SWIN Women 15km Individual 2025-03-13T14:15:00Z\n",
      "    BT2425SWRLCP08SMIN Men 20km Individual 2025-03-14T14:15:00Z\n",
      "    BT2425SWRLCP08MXRL Mixed Relay (W+M) 2025-03-15T12:05:00Z\n",
      "    BT2425SWRLCP08MXSR Single Mixed Relay (W+M) 2025-03-15T14:45:00Z\n",
      "    BT2425SWRLCP08SWMS Women 12.5km Mass Start 2025-03-16T12:35:00Z\n",
      "    BT2425SWRLCP08SMMS Men 15km Mass Start 2025-03-16T14:45:00Z\n",
      "Oslo Holmenkollen 2025-03-17 - 2025-03-23\n",
      "    BT2425SWRLCP09SMSP Men 10km Sprint 2025-03-21T12:30:00Z\n",
      "    BT2425SWRLCP09SWSP Women 7.5km Sprint 2025-03-21T15:15:00Z\n",
      "    BT2425SWRLCP09SMPU Men 12.5km Pursuit 2025-03-22T12:45:00Z\n",
      "    BT2425SWRLCP09SWPU Women 10km Pursuit 2025-03-22T14:50:00Z\n",
      "    BT2425SWRLCP09SMMS Men 15km Mass Start 2025-03-23T12:15:00Z\n",
      "    BT2425SWRLCP09SWMS Women 12.5km Mass Start 2025-03-23T14:45:00Z\n"
     ]
    }
   ],
   "source": [
    "events = biathlonresults.events(\"2425\", level=biathlonresults.consts.LevelType.BMW_IBU_WC)\n",
    "\n",
    "for event in events:\n",
    "    print(event[\"ShortDescription\"], event[\"StartDate\"][:10], \"-\", event[\"EndDate\"][:10])\n",
    "    for race in biathlonresults.competitions(event[\"EventId\"]):\n",
    "        print(\"   \", race[\"RaceId\"], race[\"ShortDescription\"], race[\"StartTime\"])"
   ]
  },
  {
   "cell_type": "code",
   "execution_count": 5,
   "id": "c45f7849-9435-43c4-a439-5e11759b2cff",
   "metadata": {},
   "outputs": [
    {
     "name": "stdout",
     "output_type": "stream",
     "text": [
      "Women 12.5 km Mass Start Competition Biathlon Stadium Kontiolahti 2024-12-08T16:10:00Z\n",
      "1 OEBERG Elvira 1+1+0+0 35:58.6\n",
      "2 SIMON Julia 1+1+0+0 +16.2\n",
      "3 PREUSS Franziska 1+0+0+1 +19.1\n",
      "4 VOIGT Vanessa 0+0+0+0 +19.9\n",
      "5 TANNHEIMER Julia 0+1+0+0 +20.1\n",
      "6 WIERER Dorothea 0+0+0+1 +25.3\n",
      "7 MAGNUSSON Anna 0+0+0+0 +25.4\n",
      "8 JEANMONNOT Lou 1+0+1+0 +36.7\n",
      "9 BRAISAZ-BOUCHET Justine 0+0+2+1 +55.9\n",
      "10 DAVIDOVA Marketa 2+0+0+1 +56.6\n",
      "11 MINKKINEN Suvi 0+0+1+0 +1:05.3\n",
      "12 RICHARD Jeanne 0+0+1+1 +1:08.8\n",
      "13 ANDERSSON Sara 0+0+2+0 +1:19.8\n",
      "14 LIE Lotte 0+0+1+0 +1:24.0\n",
      "15 HAUSER Lisa Theresa 0+0+1+1 +1:32.4\n",
      "16 KNOTTEN Karoline Offigstad 0+0+2+1 +1:39.8\n",
      "17 MICHELON Oceane 1+0+2+1 +1:42.7\n",
      "18 STREMOUS Alina 0+0+0+1 +1:45.2\n",
      "19 HALVARSSON Ella 1+1+0+0 +1:49.9\n",
      "20 ARNEKLEIV Juni 0+0+2+1 +1:58.5\n",
      "21 COMOLA Samuela 0+0+1+1 +2:02.9\n",
      "22 RANDBY Gro 0+1+2+2 +2:05.6\n",
      "23 HEIJDENBERG Anna-Karin 1+0+1+1 +2:10.0\n",
      "24 OEBERG Hanna 1+1+1+1 +2:20.4\n",
      "25 BASERGA Amy 1+0+0+0 +2:23.7\n",
      "26 HAECKI-GROSS Lena 0+1+1+0 +2:48.0\n",
      "27 GANDLER Anna 1+2+0+1 +3:30.5\n",
      "28 SIDOROWICZ Natalia 0+1+2+1 +3:34.8\n",
      "29 IRWIN Deedra 1+0+3+1 +5:20.1\n",
      "30 ERMITS Regina 3+4+0+0 +5:56.8\n"
     ]
    }
   ],
   "source": [
    "race_results = biathlonresults.results(\"BT2425SWRLCP01SWMS\")\n",
    "print(race_results[\"Competition\"][\"Description\"], race_results[\"Competition\"][\"Location\"], race_results[\"Competition\"][\"StartTime\"])\n",
    "for result in race_results[\"Results\"]:\n",
    "    print(result[\"Rank\"], result[\"Name\"], result[\"Shootings\"], result[\"Result\"] if result[\"Rank\"] == \"1\" else result[\"Behind\"])"
   ]
  },
  {
   "cell_type": "code",
   "execution_count": 6,
   "id": "7d212d0c-a882-403a-9cba-3bafd126b216",
   "metadata": {},
   "outputs": [],
   "source": [
    "race_course_analytics = biathlonresults.analytic_results(\"BT2425SWRLCP01SWMS\", type_id=biathlonresults.consts.AnalysisType.TOTAL_COURSE_TIME)"
   ]
  },
  {
   "cell_type": "code",
   "execution_count": 7,
   "id": "8a6df8aa-c11d-4131-b870-107ee3d794c1",
   "metadata": {},
   "outputs": [
    {
     "name": "stdout",
     "output_type": "stream",
     "text": [
      "1 OEBERG Elvira 31:20.7\n",
      "2 BRAISAZ-BOUCHET Justine +17.0\n",
      "3 PREUSS Franziska +20.1\n",
      "4 JEANMONNOT Lou +31.7\n",
      "5 TANNHEIMER Julia +32.7\n",
      "6 VOIGT Vanessa +33.2\n",
      "7 DAVIDOVA Marketa +33.3\n",
      "8 SIMON Julia +45.5\n",
      "9 RANDBY Gro +46.9\n",
      "10 MICHELON Oceane +50.6\n",
      "11 WIERER Dorothea +57.6\n",
      "12 RICHARD Jeanne +59.1\n",
      "13 MAGNUSSON Anna +1:15.8\n",
      "14 ANDERSSON Sara +1:21.5\n",
      "15 KNOTTEN Karoline Offigstad +1:26.0\n",
      "16 MINKKINEN Suvi +1:27.1\n",
      "17 ARNEKLEIV Juni +1:29.9\n",
      "18 HAUSER Lisa Theresa +1:36.7\n",
      "19 HALVARSSON Ella +1:42.5\n",
      "20 OEBERG Hanna +1:45.0\n",
      "21 STREMOUS Alina +1:47.8\n",
      "22 LIE Lotte +1:51.1\n",
      "23 HEIJDENBERG Anna-Karin +1:51.6\n",
      "24 COMOLA Samuela +1:57.4\n",
      "25 GANDLER Anna +2:38.9\n",
      "26 BASERGA Amy +2:45.4\n",
      "27 HAECKI-GROSS Lena +2:50.9\n",
      "28 SIDOROWICZ Natalia +2:51.8\n",
      "29 IRWIN Deedra +3:34.6\n",
      "30 ERMITS Regina +3:36.1\n"
     ]
    }
   ],
   "source": [
    "for result in race_course_analytics[\"Results\"]:\n",
    "    print(result[\"Rank\"], result[\"Name\"], result[\"TotalTime\"] if result[\"Rank\"] == \"1\" else result[\"Behind\"])"
   ]
  }
 ],
 "metadata": {
  "kernelspec": {
   "display_name": "Python 3 (ipykernel)",
   "language": "python",
   "name": "python3"
  },
  "language_info": {
   "codemirror_mode": {
    "name": "ipython",
    "version": 3
   },
   "file_extension": ".py",
   "mimetype": "text/x-python",
   "name": "python",
   "nbconvert_exporter": "python",
   "pygments_lexer": "ipython3",
   "version": "3.9.19"
  }
 },
 "nbformat": 4,
 "nbformat_minor": 5
}
